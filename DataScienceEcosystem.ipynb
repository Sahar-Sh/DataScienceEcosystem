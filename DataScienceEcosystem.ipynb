{
 "cells": [
  {
   "cell_type": "markdown",
   "id": "14de075f",
   "metadata": {},
   "source": [
    "# Data Science Tools and Ecosystem"
   ]
  },
  {
   "cell_type": "markdown",
   "id": "658f2135",
   "metadata": {},
   "source": [
    "## In this notebook, Data Science Tools and Ecosystem are summarized."
   ]
  },
  {
   "cell_type": "markdown",
   "id": "ce82322d",
   "metadata": {},
   "source": [
    "__Objectives:__\n",
    "* List of popular languages for Data Science.\n",
    "* List of commonly used libraries used by Data Scientists.\n",
    "* List of development environment open source tools used in data science.\n",
    "* How to use arithmetic expressions in Python."
   ]
  },
  {
   "cell_type": "markdown",
   "id": "d5aad129",
   "metadata": {},
   "source": [
    "### Some of the popular languages that Data Scientists use are:\n",
    "1. Python\n",
    "2. R \n",
    "3. SQL\n",
    "4. Java"
   ]
  },
  {
   "cell_type": "markdown",
   "id": "67adab35",
   "metadata": {},
   "source": [
    " ### Some of the commonly used libraries used by Data Scientists include:\n",
    " 1. NumPy\n",
    " 2. pandas\n",
    " 3. Matplotlib\n",
    " 4. Seaborn\n",
    " 5. TensorFlow"
   ]
  },
  {
   "cell_type": "markdown",
   "id": "bbd51587",
   "metadata": {},
   "source": [
    "## Development environment open source tools used in data science.\n",
    "\n",
    "| Data Science Tools |\n",
    "|--------------------|\n",
    "|Anaconda|\n",
    "|Git|\n",
    "|RStudio|"
   ]
  },
  {
   "cell_type": "markdown",
   "id": "34c201c0",
   "metadata": {},
   "source": [
    "### Below are a few examples of evaluating arithmetic expressions in Python:\n"
   ]
  },
  {
   "cell_type": "code",
   "execution_count": 6,
   "id": "6499e8dd",
   "metadata": {},
   "outputs": [
    {
     "data": {
      "text/plain": [
       "17"
      ]
     },
     "execution_count": 6,
     "metadata": {},
     "output_type": "execute_result"
    }
   ],
   "source": [
    "# This a simple arithmetic expression to mutiply then add integers\n",
    "(3*4)+5"
   ]
  },
  {
   "cell_type": "code",
   "execution_count": 7,
   "id": "4db2f63b",
   "metadata": {},
   "outputs": [
    {
     "data": {
      "text/plain": [
       "3.3333333333333335"
      ]
     },
     "execution_count": 7,
     "metadata": {},
     "output_type": "execute_result"
    }
   ],
   "source": [
    "# This will convert 200 minutes to hours by diving by 60\n",
    "200/60"
   ]
  },
  {
   "cell_type": "markdown",
   "id": "4d898391",
   "metadata": {},
   "source": [
    "## Author\n",
    "Sahar Shehadeh"
   ]
  },
  {
   "cell_type": "code",
   "execution_count": null,
   "id": "4ca58d8e",
   "metadata": {},
   "outputs": [],
   "source": []
  }
 ],
 "metadata": {
  "kernelspec": {
   "display_name": "Python 3 (ipykernel)",
   "language": "python",
   "name": "python3"
  },
  "language_info": {
   "codemirror_mode": {
    "name": "ipython",
    "version": 3
   },
   "file_extension": ".py",
   "mimetype": "text/x-python",
   "name": "python",
   "nbconvert_exporter": "python",
   "pygments_lexer": "ipython3",
   "version": "3.11.4"
  }
 },
 "nbformat": 4,
 "nbformat_minor": 5
}
